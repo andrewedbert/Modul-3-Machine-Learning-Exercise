{
 "cells": [
  {
   "cell_type": "code",
   "execution_count": 54,
   "metadata": {},
   "outputs": [
    {
     "data": {
      "text/html": [
       "<div>\n",
       "<style scoped>\n",
       "    .dataframe tbody tr th:only-of-type {\n",
       "        vertical-align: middle;\n",
       "    }\n",
       "\n",
       "    .dataframe tbody tr th {\n",
       "        vertical-align: top;\n",
       "    }\n",
       "\n",
       "    .dataframe thead th {\n",
       "        text-align: right;\n",
       "    }\n",
       "</style>\n",
       "<table border=\"1\" class=\"dataframe\">\n",
       "  <thead>\n",
       "    <tr style=\"text-align: right;\">\n",
       "      <th></th>\n",
       "      <th>Provinsi</th>\n",
       "      <th>2010</th>\n",
       "    </tr>\n",
       "  </thead>\n",
       "  <tbody>\n",
       "    <tr>\n",
       "      <th>11</th>\n",
       "      <td>Jawa Barat</td>\n",
       "      <td>43053732</td>\n",
       "    </tr>\n",
       "  </tbody>\n",
       "</table>\n",
       "</div>"
      ],
      "text/plain": [
       "      Provinsi      2010\n",
       "11  Jawa Barat  43053732"
      ]
     },
     "execution_count": 54,
     "metadata": {},
     "output_type": "execute_result"
    }
   ],
   "source": [
    "import pandas as pd\n",
    "import numpy as np\n",
    "\n",
    "df = pd.read_excel('indo_12_1.xls', skiprows=3, skipfooter=3, na_values=['-'])\n",
    "df.rename(columns={'Unnamed: 0':'Provinsi'},inplace=True)\n",
    "# df = df.replace('-', np.NaN)\n",
    "# df.isnull().sum()\n",
    "# df = df.fillna({\n",
    "#     1971:'x',1980:'y',1990:'z',1995:'b',2000:'c'\n",
    "# })\n",
    "# df = df.fillna(method='ffill',axis='index')\n",
    "# 0:'index', 1:'columns'\n",
    "# df = df.interpolate()\n",
    "df = df.dropna() \n",
    "# how='all'=> buang baris yang tidak ada value sama sekali, thresh=int => buang sesuai jumlah yang kosong, subset=[nama kolom] => buang baris yang kosong berdasarkan kolom\n",
    "# df[2010].max()\n",
    "df[['Provinsi',2010]][df[2010]==df[2010].max()]"
   ]
  },
  {
   "cell_type": "code",
   "execution_count": 55,
   "metadata": {},
   "outputs": [
    {
     "data": {
      "text/html": [
       "<div>\n",
       "<style scoped>\n",
       "    .dataframe tbody tr th:only-of-type {\n",
       "        vertical-align: middle;\n",
       "    }\n",
       "\n",
       "    .dataframe tbody tr th {\n",
       "        vertical-align: top;\n",
       "    }\n",
       "\n",
       "    .dataframe thead th {\n",
       "        text-align: right;\n",
       "    }\n",
       "</style>\n",
       "<table border=\"1\" class=\"dataframe\">\n",
       "  <thead>\n",
       "    <tr style=\"text-align: right;\">\n",
       "      <th></th>\n",
       "      <th>Provinsi</th>\n",
       "      <th>1971</th>\n",
       "    </tr>\n",
       "  </thead>\n",
       "  <tbody>\n",
       "    <tr>\n",
       "      <th>14</th>\n",
       "      <td>Jawa Timur</td>\n",
       "      <td>25516999.0</td>\n",
       "    </tr>\n",
       "  </tbody>\n",
       "</table>\n",
       "</div>"
      ],
      "text/plain": [
       "      Provinsi        1971\n",
       "14  Jawa Timur  25516999.0"
      ]
     },
     "execution_count": 55,
     "metadata": {},
     "output_type": "execute_result"
    }
   ],
   "source": [
    "df[['Provinsi',1971]][df[1971]==df[1971].max()]"
   ]
  },
  {
   "cell_type": "code",
   "execution_count": 56,
   "metadata": {},
   "outputs": [
    {
     "data": {
      "text/html": [
       "<div>\n",
       "<style scoped>\n",
       "    .dataframe tbody tr th:only-of-type {\n",
       "        vertical-align: middle;\n",
       "    }\n",
       "\n",
       "    .dataframe tbody tr th {\n",
       "        vertical-align: top;\n",
       "    }\n",
       "\n",
       "    .dataframe thead th {\n",
       "        text-align: right;\n",
       "    }\n",
       "</style>\n",
       "<table border=\"1\" class=\"dataframe\">\n",
       "  <thead>\n",
       "    <tr style=\"text-align: right;\">\n",
       "      <th></th>\n",
       "      <th>Provinsi</th>\n",
       "      <th>1980</th>\n",
       "    </tr>\n",
       "  </thead>\n",
       "  <tbody>\n",
       "    <tr>\n",
       "      <th>14</th>\n",
       "      <td>Jawa Timur</td>\n",
       "      <td>29188852.0</td>\n",
       "    </tr>\n",
       "  </tbody>\n",
       "</table>\n",
       "</div>"
      ],
      "text/plain": [
       "      Provinsi        1980\n",
       "14  Jawa Timur  29188852.0"
      ]
     },
     "execution_count": 56,
     "metadata": {},
     "output_type": "execute_result"
    }
   ],
   "source": [
    "df[['Provinsi',1980]][df[1980]==df[1980].max()]"
   ]
  },
  {
   "cell_type": "code",
   "execution_count": 57,
   "metadata": {},
   "outputs": [
    {
     "data": {
      "text/html": [
       "<div>\n",
       "<style scoped>\n",
       "    .dataframe tbody tr th:only-of-type {\n",
       "        vertical-align: middle;\n",
       "    }\n",
       "\n",
       "    .dataframe tbody tr th {\n",
       "        vertical-align: top;\n",
       "    }\n",
       "\n",
       "    .dataframe thead th {\n",
       "        text-align: right;\n",
       "    }\n",
       "</style>\n",
       "<table border=\"1\" class=\"dataframe\">\n",
       "  <thead>\n",
       "    <tr style=\"text-align: right;\">\n",
       "      <th></th>\n",
       "      <th>Provinsi</th>\n",
       "      <th>1971</th>\n",
       "      <th>1980</th>\n",
       "      <th>1990</th>\n",
       "      <th>1995</th>\n",
       "      <th>2000</th>\n",
       "      <th>2010</th>\n",
       "    </tr>\n",
       "  </thead>\n",
       "  <tbody>\n",
       "    <tr>\n",
       "      <th>11</th>\n",
       "      <td>Jawa Barat</td>\n",
       "      <td>21623529.0</td>\n",
       "      <td>27453525.0</td>\n",
       "      <td>35384352.0</td>\n",
       "      <td>39206787.0</td>\n",
       "      <td>35729537.0</td>\n",
       "      <td>43053732</td>\n",
       "    </tr>\n",
       "  </tbody>\n",
       "</table>\n",
       "</div>"
      ],
      "text/plain": [
       "      Provinsi        1971        1980        1990        1995        2000  \\\n",
       "11  Jawa Barat  21623529.0  27453525.0  35384352.0  39206787.0  35729537.0   \n",
       "\n",
       "        2010  \n",
       "11  43053732  "
      ]
     },
     "execution_count": 57,
     "metadata": {},
     "output_type": "execute_result"
    }
   ],
   "source": [
    "df[df['Provinsi']=='Jawa Barat']"
   ]
  },
  {
   "cell_type": "code",
   "execution_count": 58,
   "metadata": {},
   "outputs": [
    {
     "data": {
      "text/html": [
       "<div>\n",
       "<style scoped>\n",
       "    .dataframe tbody tr th:only-of-type {\n",
       "        vertical-align: middle;\n",
       "    }\n",
       "\n",
       "    .dataframe tbody tr th {\n",
       "        vertical-align: top;\n",
       "    }\n",
       "\n",
       "    .dataframe thead th {\n",
       "        text-align: right;\n",
       "    }\n",
       "</style>\n",
       "<table border=\"1\" class=\"dataframe\">\n",
       "  <thead>\n",
       "    <tr style=\"text-align: right;\">\n",
       "      <th></th>\n",
       "      <th>Provinsi</th>\n",
       "      <th>1971</th>\n",
       "      <th>1980</th>\n",
       "      <th>1990</th>\n",
       "      <th>1995</th>\n",
       "      <th>2000</th>\n",
       "      <th>2010</th>\n",
       "    </tr>\n",
       "  </thead>\n",
       "  <tbody>\n",
       "    <tr>\n",
       "      <th>14</th>\n",
       "      <td>Jawa Timur</td>\n",
       "      <td>25516999.0</td>\n",
       "      <td>29188852.0</td>\n",
       "      <td>32503991.0</td>\n",
       "      <td>33844002.0</td>\n",
       "      <td>34783640.0</td>\n",
       "      <td>37476757</td>\n",
       "    </tr>\n",
       "  </tbody>\n",
       "</table>\n",
       "</div>"
      ],
      "text/plain": [
       "      Provinsi        1971        1980        1990        1995        2000  \\\n",
       "14  Jawa Timur  25516999.0  29188852.0  32503991.0  33844002.0  34783640.0   \n",
       "\n",
       "        2010  \n",
       "14  37476757  "
      ]
     },
     "execution_count": 58,
     "metadata": {},
     "output_type": "execute_result"
    }
   ],
   "source": [
    "df[df['Provinsi']=='Jawa Timur']"
   ]
  },
  {
   "cell_type": "code",
   "execution_count": 72,
   "metadata": {},
   "outputs": [
    {
     "data": {
      "image/png": "[encoded data removed]",
      "text/plain": [
       "<Figure size 576x396 with 1 Axes>"
      ]
     },
     "metadata": {},
     "output_type": "display_data"
    }
   ],
   "source": [
    "jabar = df[df['Provinsi']=='Jawa Barat']\n",
    "thjabar = list(jabar.columns)[1:]\n",
    "jmljabar = list(jabar.values[0])[1:]\n",
    "\n",
    "jatim = df[df['Provinsi']=='Jawa Timur']\n",
    "thjatim = list(jatim.columns)[1:]\n",
    "jmljatim = list(jatim.values[0])[1:]\n",
    "\n",
    "%matplotlib inline\n",
    "import matplotlib.pyplot as plt\n",
    "plt.style.use('seaborn')\n",
    "plt.plot(\n",
    "    thjabar, jmljabar, 'r-', thjatim, jmljatim, 'b-'\n",
    ")\n",
    "plt.grid(True)\n",
    "plt.legend(['Jawa Barat','Jawa Timur'])\n",
    "plt.show()\n"
   ]
  },
  {
   "cell_type": "code",
   "execution_count": 1,
   "metadata": {},
   "outputs": [
    {
     "data": {
      "image/png": "[encoded data removed]",
      "text/plain": [
       "<Figure size 576x396 with 1 Axes>"
      ]
     },
     "metadata": {},
     "output_type": "display_data"
    }
   ],
   "source": [
    "# plotting grafik dlm 1 figure jml penduduk dari Indonesia + Provinsi yang penduduknya 1971 paling sedikit + provinsi yang penduduknya 2000 paling banyak\n",
    "# dilarang: \"Indonesia\", \"\"\n",
    "import pandas as pd\n",
    "import numpy as np\n",
    "%matplotlib inline\n",
    "import matplotlib.pyplot as plt\n",
    "\n",
    "df1 = pd.read_excel('indo_12_1.xls', skiprows=3, skipfooter=3, na_values=['-'])\n",
    "df2 = pd.read_excel('indo_12_1.xls', skiprows=3, skipfooter=2, na_values=['-'])\n",
    "\n",
    "x = df1[[1971]][df1[1971]==df1[1971].min()]\n",
    "y = df1[[2000]][df1[2000]==df1[2000].max()]\n",
    "z = df2[[2010]][df2[2010]==df2[2010].max()]\n",
    "\n",
    "thx = list(df1[df1[1971]==df1[1971].min()].columns)[1:]\n",
    "jmlx = list(df1[df1[1971]==df1[1971].min()].values[0])[1:]\n",
    "\n",
    "thy = list(df1[df1[2000]==df1[2000].max()].columns)[1:]\n",
    "jmly = list(df1[df1[2000]==df1[2000].max()].values[0])[1:]\n",
    "\n",
    "thz = list(df2[df2[2010]==df2[2010].max()].columns)[1:]\n",
    "jmlz = list(df2[df2[2010]==df2[2010].max()].values[0])[1:]\n",
    "\n",
    "\n",
    "plt.style.use('seaborn')\n",
    "plt.plot(thx,jmlx,'r-',thy,jmly,'b-',thz,jmlz,'g-')\n",
    "plt.grid(True)\n",
    "plt.legend([list(df1[df1[1971]==df1[1971].min()].values[0])[0],list(df1[df1[2000]==df1[2000].max()].values[0])[0],list(df2[df2[2010]==df2[2010].max()].values[0])[0]])\n",
    "plt.show()"
   ]
  },
  {
   "cell_type": "code",
   "execution_count": 81,
   "metadata": {},
   "outputs": [
    {
     "data": {
      "text/plain": [
       "'Bengkulu'"
      ]
     },
     "execution_count": 81,
     "metadata": {},
     "output_type": "execute_result"
    }
   ],
   "source": [
    "xprov = list(df1['Provinsi'][df1[1971]==df1[1971].min()])\n",
    "xprov[0]"
   ]
  },
  {
   "cell_type": "code",
   "execution_count": 87,
   "metadata": {},
   "outputs": [
    {
     "data": {
      "text/plain": [
       "[1971, 1980, 1990, 1995, 2000, 2010]"
      ]
     },
     "execution_count": 87,
     "metadata": {},
     "output_type": "execute_result"
    }
   ],
   "source": [
    "thx = list(df1[df1[1971]==df1[1971].min()].columns)[1:]\n",
    "thx"
   ]
  },
  {
   "cell_type": "code",
   "execution_count": 97,
   "metadata": {},
   "outputs": [
    {
     "data": {
      "text/plain": [
       "['Bengkulu', 519316.0, 768064.0, 1179122.0, 1409117.0, 1567432.0, 1715518]"
      ]
     },
     "execution_count": 97,
     "metadata": {},
     "output_type": "execute_result"
    }
   ],
   "source": [
    "list(df1[df1[1971]==df1[1971].min()].values[0])"
   ]
  },
  {
   "cell_type": "code",
   "execution_count": null,
   "metadata": {},
   "outputs": [],
   "source": []
  }
 ],
 "metadata": {
  "kernelspec": {
   "display_name": "Python 3",
   "language": "python",
   "name": "python3"
  },
  "language_info": {
   "codemirror_mode": {
    "name": "ipython",
    "version": 3
   },
   "file_extension": ".py",
   "mimetype": "text/x-python",
   "name": "python",
   "nbconvert_exporter": "python",
   "pygments_lexer": "ipython3",
   "version": "3.7.3"
  }
 },
 "nbformat": 4,
 "nbformat_minor": 4
}
